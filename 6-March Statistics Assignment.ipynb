{
 "cells": [
  {
   "cell_type": "code",
   "execution_count": 17,
   "id": "e8821526-ef20-4816-b116-61b4861fe95f",
   "metadata": {},
   "outputs": [],
   "source": [
    "#Q No. 1: What is Statistics.\n",
    "# Statistics is the science of collecting , organising and analysing data."
   ]
  },
  {
   "cell_type": "code",
   "execution_count": 18,
   "id": "e6d7114b-6e81-40f3-a478-0d28d24db105",
   "metadata": {},
   "outputs": [
    {
     "data": {
      "text/plain": [
       "'\\nThere are two types of Statistics, which are descriptive Statistics and inferential Statistics. \\nIn descriptive Statistics, the Data or Collection Data are described in a summarized way\\nwhereas in inferential Statistics, \\nwe make use of it in order to explain the descriptive kind. Both of them are used on a large scale.\\nExample : Suppose we want to describe the test scores in a specific class of 30 students\\nDescriptive question \" what is the average score of the class\"\\nInferential question \"Is the score in classromm similar what you expect in the entire college\"\\n'"
      ]
     },
     "execution_count": 18,
     "metadata": {},
     "output_type": "execute_result"
    }
   ],
   "source": [
    "#Q No. 2 : DEfine the different types of Statistics and give an example of when each type might be used .\n",
    "\"\"\"\n",
    "There are two types of Statistics, which are descriptive Statistics and inferential Statistics. \n",
    "In descriptive Statistics, the Data or Collection Data are described in a summarized way\n",
    "whereas in inferential Statistics, \n",
    "we make use of it in order to explain the descriptive kind. Both of them are used on a large scale.\n",
    "Example : Suppose we want to describe the test scores in a specific class of 30 students\n",
    "Descriptive question \" what is the average score of the class\"\n",
    "Inferential question \"Is the score in classromm similar what you expect in the entire college\"\n",
    "\"\"\""
   ]
  },
  {
   "cell_type": "code",
   "execution_count": 19,
   "id": "298301c2-ab3d-42f9-bec9-c665bd4a3f2f",
   "metadata": {},
   "outputs": [
    {
     "data": {
      "text/plain": [
       "'\\n1. Qualitative data\\n2. Quantitative data\\n\\n1. Qualitative or Categorical Data is data that can’t be measured or counted in the form of numbers. \\nThese types of data are sorted by category, not by number.\\n\\nExamples of qualitative data are :\\nFavorite holiday destination\\nOpinion on something (agree, disagree, or neutral)\\nColors\\nThe Qualitative data are further classified into two parts :\\n(a) Nominal Data\\nNominal Data is used to label variables without any order or rank. The color of hair can be considered nominal data,\\nas one color can’t be compared with another color.\\n\\nExamples of Nominal Data :\\n\\nColour of hair (Blonde, red, Brown, Black, etc.)\\nMarital status (Single, Widowed, Married)\\nNationality (Indian, German, American)\\nGender (Male, Female)\\n(b) Ordinal Data\\nOrdinal data have natural ordering where a number is present in some kind of order by their position on the scale.\\n\\nExamples of Ordinal Data :\\n    \\nWhen companies ask for feedback, experience, or satisfaction on a scale of 1 to 10\\nLetter grades in the exam (A, B, C, D, etc.)\\nRanking of people in a competition (First, Second, Third, etc.)\\nEconomic Status (High, Medium, and Low)\\n\\n2. Quantitative Data\\nQuantitative data can be expressed in numerical values, making it countable and including statistical data analysis.\\nThese kinds of data are also known as Numerical data. \\n\\nExamples of Quantitative Data : \\nRoom Temperature\\nScores and Marks (Ex: 59, 80, 60, etc.)\\nTime\\nThe Quantitative data are further classified into two parts :\\n(x) Discrete Data\\nThe discrete data contain the values that fall under integers or whole numbers.\\n\\nThe discrete data are countable and have finite values.\\n\\nExamples of Discrete Data : \\nTotal numbers of students present in a class\\nDays in a week\\n(y) Continuous Data\\nContinuous data are in the form of fractional numbers. The continuous variable can take any value within a range. \\n\\nExamples of Continuous Data : \\nHeight of a person\\nSpeed of a vehicle\\n“Time-taken” to finish the work '"
      ]
     },
     "execution_count": 19,
     "metadata": {},
     "output_type": "execute_result"
    }
   ],
   "source": [
    "# Q No. 3 : What are the different types of data and how do they differ from each other? Provide an example of each type of data.\n",
    "\"\"\"\n",
    "1. Qualitative data\n",
    "2. Quantitative data\n",
    "\n",
    "1. Qualitative or Categorical Data is data that can’t be measured or counted in the form of numbers. \n",
    "These types of data are sorted by category, not by number.\n",
    "\n",
    "Examples of qualitative data are :\n",
    "Favorite holiday destination\n",
    "Opinion on something (agree, disagree, or neutral)\n",
    "Colors\n",
    "The Qualitative data are further classified into two parts :\n",
    "(a) Nominal Data\n",
    "Nominal Data is used to label variables without any order or rank. The color of hair can be considered nominal data,\n",
    "as one color can’t be compared with another color.\n",
    "\n",
    "Examples of Nominal Data :\n",
    "\n",
    "Colour of hair (Blonde, red, Brown, Black, etc.)\n",
    "Marital status (Single, Widowed, Married)\n",
    "Nationality (Indian, German, American)\n",
    "Gender (Male, Female)\n",
    "(b) Ordinal Data\n",
    "Ordinal data have natural ordering where a number is present in some kind of order by their position on the scale.\n",
    "\n",
    "Examples of Ordinal Data :\n",
    "    \n",
    "When companies ask for feedback, experience, or satisfaction on a scale of 1 to 10\n",
    "Letter grades in the exam (A, B, C, D, etc.)\n",
    "Ranking of people in a competition (First, Second, Third, etc.)\n",
    "Economic Status (High, Medium, and Low)\n",
    "\n",
    "2. Quantitative Data\n",
    "Quantitative data can be expressed in numerical values, making it countable and including statistical data analysis.\n",
    "These kinds of data are also known as Numerical data. \n",
    "\n",
    "Examples of Quantitative Data : \n",
    "Room Temperature\n",
    "Scores and Marks (Ex: 59, 80, 60, etc.)\n",
    "Time\n",
    "The Quantitative data are further classified into two parts :\n",
    "(x) Discrete Data\n",
    "The discrete data contain the values that fall under integers or whole numbers.\n",
    "\n",
    "The discrete data are countable and have finite values.\n",
    "\n",
    "Examples of Discrete Data : \n",
    "Total numbers of students present in a class\n",
    "Days in a week\n",
    "(y) Continuous Data\n",
    "Continuous data are in the form of fractional numbers. The continuous variable can take any value within a range. \n",
    "\n",
    "Examples of Continuous Data : \n",
    "Height of a person\n",
    "Speed of a vehicle\n",
    "“Time-taken” to finish the work \"\"\""
   ]
  },
  {
   "cell_type": "code",
   "execution_count": null,
   "id": "6db09f9a-8426-487c-b468-90e2c78970f0",
   "metadata": {},
   "outputs": [],
   "source": [
    "# Q No. 4 :\n",
    "'''\n",
    "1. Qualitative data\n",
    "2. Qualitative data\n",
    "3. Quantitative data\n",
    "4. Quantitative data\n",
    "'''"
   ]
  },
  {
   "cell_type": "code",
   "execution_count": 11,
   "id": "cf93b1a5-43da-407a-96de-ab5db0dcd0b1",
   "metadata": {},
   "outputs": [
    {
     "data": {
      "text/plain": [
       "'\\n1.Nominal: the data can only be categorized.example :Colour\\n2.Ordinal: the data can be categorized and ranked.example:Economic Status (High, Medium, and Low)\\n3.Interval: the data can be categorized and ranked, and evenly spaced.example:Temperature\\n4.Ratio: the data can be categorized, ranked, evenly spaced and has a natural zero.example:Students Age in a class\\n'"
      ]
     },
     "execution_count": 11,
     "metadata": {},
     "output_type": "execute_result"
    }
   ],
   "source": [
    "# Q no. 5 :Explain concept of levels of a measurement and give an example of variable for each level .\n",
    "\"\"\"\n",
    "1.Nominal: the data can only be categorized.example :Colour\n",
    "2.Ordinal: the data can be categorized and ranked.example:Economic Status (High, Medium, and Low)\n",
    "3.Interval: the data can be categorized and ranked, and evenly spaced.example:Temperature\n",
    "4.Ratio: the data can be categorized, ranked, evenly spaced and has a natural zero.example:Students Age in a class\n",
    "\"\"\""
   ]
  },
  {
   "cell_type": "code",
   "execution_count": 12,
   "id": "6fad4153-2c28-4573-9c74-210575f8b4e2",
   "metadata": {},
   "outputs": [
    {
     "data": {
      "text/plain": [
       "'\\nIt is important to understand the level of measurement of variables in research,\\nbecause the level of measurement determines the type of statistical analysis that can be conducted, \\nand, therefore, the type of conclusions that can be drawn from the research. \\n\\nExample:Temperature.\\nunless we are knowing the type of data we will be unable to use the level of measurement for the  analysis of data\\n'"
      ]
     },
     "execution_count": 12,
     "metadata": {},
     "output_type": "execute_result"
    }
   ],
   "source": [
    "# Q No. 6:\n",
    "\"\"\"\n",
    "It is important to understand the level of measurement of variables in research,\n",
    "because the level of measurement determines the type of statistical analysis that can be conducted, \n",
    "and, therefore, the type of conclusions that can be drawn from the research. \n",
    "\n",
    "Example:Temperature.\n",
    "unless we are knowing the type of data we will be unable to use the level of measurement for the  analysis of data\n",
    "\"\"\""
   ]
  },
  {
   "cell_type": "code",
   "execution_count": null,
   "id": "cb4034b8-484e-45e0-ace0-9e9c0804bac2",
   "metadata": {},
   "outputs": [],
   "source": [
    "# Q No. 7 :\n",
    "\"\"\"\n",
    "Ordinal data is data that can be ranked or ordered. Examples include data taken from a poll or survey. \n",
    "Nominal data is data that can be made to fit various categories.\n",
    "Examples include whether an animal is a mammal, fish, reptile, amphibian, or bird.\n",
    "\"\"\""
   ]
  },
  {
   "cell_type": "code",
   "execution_count": 13,
   "id": "dc1f4702-3cda-4eb4-97e9-874f7a9de8d1",
   "metadata": {},
   "outputs": [],
   "source": [
    "# Q NO. 8 : which type of plot can be used to display data in terms of range.\n",
    "# Histogram."
   ]
  },
  {
   "cell_type": "code",
   "execution_count": 14,
   "id": "a6335d30-5813-487b-a938-9ffe9ba65a5b",
   "metadata": {},
   "outputs": [
    {
     "data": {
      "text/plain": [
       "'\\n1. Descriptive statistics explains already known data related to a particular sample or population of a small size.\\nInferential statistics, however, aims to draw inferences or conclusions about a whole population. \\n2. We use charts, graphs, and tables to represent descriptive statistics, \\nwhile we use probability methods for inferential statistics.\\nExample : Suppose we want to describe the test scores in a specific class of 30 students\\nDescriptive question \" what is the average score of the class\"\\nInferential question \"Is the score in classromm similar what you expect in the entire college\"\\n'"
      ]
     },
     "execution_count": 14,
     "metadata": {},
     "output_type": "execute_result"
    }
   ],
   "source": [
    "# Q No. 9 :\n",
    "\"\"\"\n",
    "1. Descriptive statistics explains already known data related to a particular sample or population of a small size.\n",
    "Inferential statistics, however, aims to draw inferences or conclusions about a whole population. \n",
    "2. We use charts, graphs, and tables to represent descriptive statistics, \n",
    "while we use probability methods for inferential statistics.\n",
    "Example : Suppose we want to describe the test scores in a specific class of 30 students\n",
    "Descriptive question \" what is the average score of the class\"\n",
    "Inferential question \"Is the score in classromm similar what you expect in the entire college\"\n",
    "\"\"\""
   ]
  },
  {
   "cell_type": "code",
   "execution_count": 20,
   "id": "76209990-12a6-4f90-af37-f85daf7bf35f",
   "metadata": {},
   "outputs": [
    {
     "data": {
      "text/plain": [
       "'\\nThere are three main measures of central tendency:\\nMode:value that occurs with greatest frequency.\\nMedian:“middle value” or the average of “middle two values” in a data set when the numbers are arranged in an order. \\nMean: average of data values,\\nThere are two measure of Variability:\\nVariance :square of the standard deviation\\nStandard deviation:measure of how much data values are deviated away from mean.\\nRange :Difference between the maximum value and the minimum value in a data set,\\nRange = maximum value – minimum value\\n'"
      ]
     },
     "execution_count": 20,
     "metadata": {},
     "output_type": "execute_result"
    }
   ],
   "source": [
    "# Q NO. 10: what are some common measures of central tendency and variability used in statistics.explain how each measure can be used to describe each data set.\n",
    "\"\"\"\n",
    "There are three main measures of central tendency:\n",
    "Mode:value that occurs with greatest frequency.\n",
    "Median:“middle value” or the average of “middle two values” in a data set when the numbers are arranged in an order. \n",
    "Mean: average of data values,\n",
    "There are two measure of Variability:\n",
    "Variance :square of the standard deviation\n",
    "Standard deviation:measure of how much data values are deviated away from mean.\n",
    "Range :Difference between the maximum value and the minimum value in a data set,\n",
    "Range = maximum value – minimum value\n",
    "\"\"\"\n"
   ]
  },
  {
   "cell_type": "code",
   "execution_count": null,
   "id": "210a2f73-7012-4e88-b59d-ec19a5f0a857",
   "metadata": {},
   "outputs": [],
   "source": []
  },
  {
   "cell_type": "code",
   "execution_count": null,
   "id": "628bc54c-3ef4-4312-8d73-748beeb95b18",
   "metadata": {},
   "outputs": [],
   "source": []
  }
 ],
 "metadata": {
  "kernelspec": {
   "display_name": "Python 3 (ipykernel)",
   "language": "python",
   "name": "python3"
  },
  "language_info": {
   "codemirror_mode": {
    "name": "ipython",
    "version": 3
   },
   "file_extension": ".py",
   "mimetype": "text/x-python",
   "name": "python",
   "nbconvert_exporter": "python",
   "pygments_lexer": "ipython3",
   "version": "3.10.8"
  }
 },
 "nbformat": 4,
 "nbformat_minor": 5
}
